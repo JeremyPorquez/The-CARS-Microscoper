{
 "cells": [
  {
   "cell_type": "code",
   "execution_count": 2,
   "metadata": {
    "collapsed": true
   },
   "outputs": [],
   "source": [
    "import numpy as np"
   ]
  },
  {
   "cell_type": "markdown",
   "metadata": {},
   "source": [
    "#Computing for the pulse width using time-bandwidth product for Gaussian pulses"
   ]
  },
  {
   "cell_type": "markdown",
   "metadata": {},
   "source": [
    "The theory behind:\n",
    "Electric field is $\\propto e^{-\\Delta t^2}$\n",
    "\n",
    "&nbsp;&nbsp;&nbsp;&nbsp;&nbsp;&nbsp;$1/2 = e^{-\\Delta t^2}$<br>\n",
    "&nbsp;&nbsp;&nbsp;&nbsp;&nbsp;&nbsp;$\\Delta t = 2 \\sqrt{2 ln 2}$\n",
    "\n",
    "Fourier transform of electric field is $\\frac{1}{\\sqrt{2}}e^{-\\omega^2/4}$\n",
    "\n",
    "&nbsp;&nbsp;&nbsp;&nbsp;&nbsp;&nbsp;$1/2 = \\frac{1}{\\sqrt{2}}e^{-\\omega^2/4}$<br>\n",
    "&nbsp;&nbsp;&nbsp;&nbsp;&nbsp;&nbsp;$\\Delta \\omega = \\sqrt{2 ln 2}$\n",
    "\n",
    "Then\n",
    "\n",
    "&nbsp;&nbsp;&nbsp;&nbsp;&nbsp;&nbsp;$\\Delta t \\Delta \\omega = 2(2 ln 2)$<br>\n",
    "&nbsp;&nbsp;&nbsp;&nbsp;&nbsp;&nbsp;$\\Delta t = 2 (2 ln 2) / \\Delta \\omega$"
   ]
  },
  {
   "cell_type": "code",
   "execution_count": 3,
   "metadata": {
    "collapsed": false
   },
   "outputs": [
    {
     "name": "stdout",
     "output_type": "stream",
     "text": [
      "the pulse width (FWHM) is : 145.048 fs\n"
     ]
    }
   ],
   "source": [
    "c = 3e8 * 1e9 / 1e15 #in nm/fs\n",
    "l = 800 #in nm\n",
    "dl = 6.49/2 #FWHM?\n",
    "\n",
    "\n",
    "lambda1 = l + dl\n",
    "lambda2 = l - dl\n",
    "\n",
    "omega1 = 2*np.pi*c/(l+dl)\n",
    "omega2 = 2*np.pi*c/(l-dl)\n",
    "\n",
    "deltaOmega = abs(omega1 - omega2)\n",
    "tg = 2*np.pi*(2 * np.log(2) / np.pi) / deltaOmega\n",
    "tg = 2*(2 * np.log(2)) / deltaOmega\n",
    "\n",
    "print 'the pulse width (FWHM) is : %.3f fs' %(tg)\n",
    "#print 'the pulse width is : %.3f fs' %(tg / 2*(2*np.log(2))**0.5)"
   ]
  }
 ],
 "metadata": {
  "kernelspec": {
   "display_name": "Python 2",
   "language": "python",
   "name": "python2"
  },
  "language_info": {
   "codemirror_mode": {
    "name": "ipython",
    "version": 2
   },
   "file_extension": ".py",
   "mimetype": "text/x-python",
   "name": "python",
   "nbconvert_exporter": "python",
   "pygments_lexer": "ipython2",
   "version": "2.7.9"
  }
 },
 "nbformat": 4,
 "nbformat_minor": 0
}
