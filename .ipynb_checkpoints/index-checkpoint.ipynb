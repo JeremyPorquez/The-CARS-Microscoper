{
 "cells": [
  {
   "cell_type": "markdown",
   "metadata": {},
   "source": [
    "#My life at the lab\n",
    "* <a href=\"Numerical%20Aperture.ipynb\">About the numerical aperture</a>\n",
    "* <a href=\"FCARS%20ECARS.ipynb\">F-CARS and E-CARS</a>\n",
    "* <a href=\"Autocorrelation.ipynb\">Autocorrelation</a>\n",
    "* <a href=\"Pulsewidth-timebandwidth.ipynb\">Computing for pulse width via time-bandwidth product</a>\n",
    "*  <a href=Autocorrelator%20and%20FCARS%20ECARS.ipynb>Sympy</a>"
   ]
  },
  {
   "cell_type": "code",
   "execution_count": null,
   "metadata": {
    "collapsed": true
   },
   "outputs": [],
   "source": []
  }
 ],
 "metadata": {
  "kernelspec": {
   "display_name": "Python 2",
   "language": "python",
   "name": "python2"
  },
  "language_info": {
   "codemirror_mode": {
    "name": "ipython",
    "version": 2
   },
   "file_extension": ".py",
   "mimetype": "text/x-python",
   "name": "python",
   "nbconvert_exporter": "python",
   "pygments_lexer": "ipython2",
   "version": "2.7.9"
  }
 },
 "nbformat": 4,
 "nbformat_minor": 0
}
