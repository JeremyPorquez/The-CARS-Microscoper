{
 "cells": [
  {
   "cell_type": "markdown",
   "metadata": {},
   "source": [
    "#About the numerical aperture\n",
    "$NA = n \\times sin \\theta$\n",
    "<br>\n",
    "<img src=\"numerical%20aperture\\numericalaperturefigure1.jpg\">\n",
    "figure from https://www.microscopyu.com/articles/formulas/formulasna.html"
   ]
  },
  {
   "cell_type": "code",
   "execution_count": 9,
   "metadata": {
    "collapsed": false
   },
   "outputs": [
    {
     "name": "stdout",
     "output_type": "stream",
     "text": [
      "The numerical aperture for a 7 degree cone is 0.121869\n",
      "The numerical aperture for a 20 degree cone is 0.342020\n",
      "The numerical aperture for a 60 degree cone is 0.866025\n"
     ]
    }
   ],
   "source": [
    "import numpy as np\n",
    "NAa = np.sin(7*np.pi/180)\n",
    "NAb = np.sin(20*np.pi/180)\n",
    "NAc = np.sin(60*np.pi/180)\n",
    "print 'The numerical aperture for a 7 degree cone is %f' %NAa\n",
    "print 'The numerical aperture for a 20 degree cone is %f' %NAb\n",
    "print 'The numerical aperture for a 60 degree cone is %f' %NAc"
   ]
  }
 ],
 "metadata": {
  "kernelspec": {
   "display_name": "Python 2",
   "language": "python",
   "name": "python2"
  },
  "language_info": {
   "codemirror_mode": {
    "name": "ipython",
    "version": 2
   },
   "file_extension": ".py",
   "mimetype": "text/x-python",
   "name": "python",
   "nbconvert_exporter": "python",
   "pygments_lexer": "ipython2",
   "version": "2.7.9"
  }
 },
 "nbformat": 4,
 "nbformat_minor": 0
}
