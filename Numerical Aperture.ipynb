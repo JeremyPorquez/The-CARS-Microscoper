{
 "cells": [
  {
   "cell_type": "markdown",
   "metadata": {},
   "source": [
    "#About the numerical aperture\n",
    "$NA = n \\times sin \\theta$\n",
    "<br>\n",
    "<td align=\"left\"><img src=\"Numerical%20Aperture/numericalaperturefigure1.jpg\"></td>\n",
    "figure from https://www.microscopyu.com/articles/formulas/formulasna.html"
   ]
  },
  {
   "cell_type": "code",
   "execution_count": 9,
   "metadata": {
    "collapsed": false
   },
   "outputs": [
    {
     "name": "stdout",
     "output_type": "stream",
     "text": [
      "The numerical aperture for a 7 degree cone is 0.121869\n",
      "The numerical aperture for a 20 degree cone is 0.342020\n",
      "The numerical aperture for a 60 degree cone is 0.866025\n"
     ]
    }
   ],
   "source": [
    "import numpy as np\n",
    "NAa = np.sin(7*np.pi/180)\n",
    "NAb = np.sin(20*np.pi/180)\n",
    "NAc = np.sin(60*np.pi/180)\n",
    "print 'The numerical aperture for a 7 degree cone is %f' %NAa\n",
    "print 'The numerical aperture for a 20 degree cone is %f' %NAb\n",
    "print 'The numerical aperture for a 60 degree cone is %f' %NAc"
   ]
  },
  {
   "cell_type": "markdown",
   "metadata": {},
   "source": [
    "#Oil immersion and index matching\n",
    "<img src=\"Numerical%20Aperture/oilimmersion.jpg\" width=600>\n",
    "Oil is used to minimize refraction of light."
   ]
  },
  {
   "cell_type": "code",
   "execution_count": null,
   "metadata": {
    "collapsed": true
   },
   "outputs": [],
   "source": []
  }
 ],
 "metadata": {
  "kernelspec": {
   "display_name": "Python 2",
   "language": "python",
   "name": "python2"
  },
  "language_info": {
   "codemirror_mode": {
    "name": "ipython",
    "version": 2
   },
   "file_extension": ".py",
   "mimetype": "text/x-python",
   "name": "python",
   "nbconvert_exporter": "python",
   "pygments_lexer": "ipython2",
   "version": "2.7.9"
  }
 },
 "nbformat": 4,
 "nbformat_minor": 0
}
